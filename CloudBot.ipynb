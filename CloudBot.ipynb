{
  "nbformat": 4,
  "nbformat_minor": 0,
  "metadata": {
    "colab": {
      "name": "CloudBot.ipynb",
      "provenance": [],
      "collapsed_sections": [],
      "mount_file_id": "1hWEXuf588FqBNk3qRxMVz5PB-vm9-LkC",
      "authorship_tag": "ABX9TyOqHyErKlwpMPlYyIcDCsEM"
    },
    "kernelspec": {
      "name": "python3",
      "display_name": "Python 3"
    },
    "language_info": {
      "name": "python"
    }
  },
  "cells": [
    {
      "cell_type": "code",
      "source": [
        "from tensorflow.keras.preprocessing.image import ImageDataGenerator\n",
        "from keras.applications.vgg16 import VGG16, preprocess_input\n",
        "from keras.callbacks import ModelCheckpoint, EarlyStopping\n",
        "from keras.preprocessing.image import ImageDataGenerator\n",
        "from keras.layers import Dense, Dropout, Flatten\n",
        "from tensorflow.keras.preprocessing import image\n",
        "from tensorflow.keras.optimizers import RMSprop\n",
        "from tensorflow.keras.optimizers import Adam\n",
        "from IPython.display import display\n",
        "import matplotlib.pyplot as plt\n",
        "from keras.models import Model\n",
        "from pathlib import Path\n",
        "import tensorflow as tf\n",
        "from time import sleep\n",
        "from PIL import Image\n",
        "import urllib.request\n",
        "import numpy as np\n",
        "import tweepy\n",
        "import cv2\n",
        "import os\n",
        "import io"
      ],
      "metadata": {
        "id": "3OQ3Lv683qcn"
      },
      "execution_count": null,
      "outputs": []
    },
    {
      "cell_type": "code",
      "source": [
        "cloud_cnn = tf.keras.models.load_model('/content/drive/MyDrive/CloudImages/vgg_model_ft.h5') #87% accurate weights"
      ],
      "metadata": {
        "id": "_H73H6XyTovM"
      },
      "execution_count": null,
      "outputs": []
    },
    {
      "cell_type": "code",
      "source": [
        "def main():\n",
        "    twitter_auth_keys = {\n",
        "        \"consumer_key\"        : \"consumer_key\",\n",
        "        \"consumer_secret\"     : \"consumer_secret\",\n",
        "        \"access_token\"        : \"access_token\",\n",
        "        \"access_token_secret\" : \"access_token_secret\"\n",
        "    }\n",
        " \n",
        "    auth = tweepy.OAuthHandler(\n",
        "            twitter_auth_keys['consumer_key'],\n",
        "            twitter_auth_keys['consumer_secret']\n",
        "            )\n",
        "    auth.set_access_token(\n",
        "            twitter_auth_keys['access_token'],\n",
        "            twitter_auth_keys['access_token_secret']\n",
        "            )\n",
        "    api = tweepy.API(auth)\n",
        " \n",
        "    def predictCloudForm(filename):\n",
        "      def loadWeatherFile(filename):\n",
        "        url = \"http://uindy-weathercam.s3.us-east-2.amazonaws.com/\" + filename\n",
        "        fh = urllib.request.urlopen(url)\n",
        "        return Image.open(io.BytesIO(fh.read()))\n",
        "\n",
        "      img_array = image.img_to_array(loadWeatherFile(filename).resize((224,224)))\n",
        "      img_batch = np.expand_dims(img_array, axis=0)\n",
        "      img_preprocessed = preprocess_input(img_batch)\n",
        "      prediction = cloud_cnn.predict(img_preprocessed)\n",
        "      vgg_pred_classes_ft = np.argmax(prediction, axis=1)\n",
        "\n",
        "      if vgg_pred_classes_ft[0] == 0:\n",
        "        cloud_form = \"Cirrus\"\n",
        "      elif vgg_pred_classes_ft[0] == 1:\n",
        "        cloud_form = \"Cumulus\"\n",
        "      elif vgg_pred_classes_ft[0] == 2:\n",
        "        cloud_form = \"Other\"\n",
        "      elif vgg_pred_classes_ft[0] == 3:\n",
        "        cloud_form = \"Stratus\"\n",
        "\n",
        "      predList = np.array(prediction).tolist()\n",
        "      confid = predList[0][vgg_pred_classes_ft[0]] * 100\n",
        "\n",
        "      daily_image = loadWeatherFile(filename)\n",
        "      daily_image.save('/content/drive/MyDrive/CloudImages/daily_image/' + filename)\n",
        "\n",
        "      cloud_status = \"I'm {}% confident the cloud formation is: {}\".format(round(confid, 2), cloud_form)\n",
        "\n",
        "      api.update_with_media('/content/drive/MyDrive/CloudImages/daily_image/' + filename, status=cloud_status)\n",
        "\n",
        "    predictCloudForm('1594997760.jpg') #the .jpg here will be the latest image taken from the camera\n",
        "\n",
        "     \n",
        "if __name__ == \"__main__\":\n",
        "    main()"
      ],
      "metadata": {
        "id": "wgf5PQthTjNl"
      },
      "execution_count": null,
      "outputs": []
    }
  ]
}